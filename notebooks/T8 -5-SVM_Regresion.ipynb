{
 "cells": [
  {
   "cell_type": "markdown",
   "metadata": {},
   "source": [
    "# SVM para Regresión"
   ]
  },
  {
   "cell_type": "code",
   "execution_count": 16,
   "metadata": {},
   "outputs": [],
   "source": [
    "import numpy as np\n",
    "import matplotlib.pyplot as plt"
   ]
  },
  {
   "cell_type": "code",
   "execution_count": 17,
   "metadata": {},
   "outputs": [],
   "source": [
    "X = np.sort(5*np.random.rand(200,1),axis=0)\n",
    "Y = np.sin(X).ravel()\n",
    "Y[::5] += 3* (0.5 - np.random.rand(40))"
   ]
  },
  {
   "cell_type": "code",
   "execution_count": 18,
   "metadata": {},
   "outputs": [
    {
     "data": {
      "text/plain": [
       "array([[0.04959372],\n",
       "       [0.05187783],\n",
       "       [0.05270345],\n",
       "       [0.09698808],\n",
       "       [0.15777883],\n",
       "       [0.23795004],\n",
       "       [0.29505935],\n",
       "       [0.31655627],\n",
       "       [0.37196767],\n",
       "       [0.37423745],\n",
       "       [0.37716587],\n",
       "       [0.46931328],\n",
       "       [0.49204883],\n",
       "       [0.49664628],\n",
       "       [0.51751619],\n",
       "       [0.5236911 ],\n",
       "       [0.53381454],\n",
       "       [0.54678396],\n",
       "       [0.55753718],\n",
       "       [0.56055959],\n",
       "       [0.633616  ],\n",
       "       [0.66244104],\n",
       "       [0.66852814],\n",
       "       [0.68241879],\n",
       "       [0.72595263],\n",
       "       [0.72804273],\n",
       "       [0.73235817],\n",
       "       [0.77720834],\n",
       "       [0.79077969],\n",
       "       [0.85220033],\n",
       "       [0.87892326],\n",
       "       [0.8864641 ],\n",
       "       [0.89276218],\n",
       "       [0.94244139],\n",
       "       [0.94426776],\n",
       "       [0.94793636],\n",
       "       [0.96835598],\n",
       "       [1.00163388],\n",
       "       [1.04617264],\n",
       "       [1.05824835],\n",
       "       [1.06621038],\n",
       "       [1.07488696],\n",
       "       [1.08655946],\n",
       "       [1.08895618],\n",
       "       [1.10287899],\n",
       "       [1.13392325],\n",
       "       [1.18864727],\n",
       "       [1.21168269],\n",
       "       [1.21811303],\n",
       "       [1.23823041],\n",
       "       [1.24360573],\n",
       "       [1.25478774],\n",
       "       [1.32829362],\n",
       "       [1.33660662],\n",
       "       [1.40739846],\n",
       "       [1.43632672],\n",
       "       [1.50726919],\n",
       "       [1.51262083],\n",
       "       [1.52177554],\n",
       "       [1.53532485],\n",
       "       [1.57491936],\n",
       "       [1.58853393],\n",
       "       [1.60324054],\n",
       "       [1.62328838],\n",
       "       [1.7276559 ],\n",
       "       [1.80120662],\n",
       "       [1.80830289],\n",
       "       [1.83271474],\n",
       "       [1.85736723],\n",
       "       [1.8634628 ],\n",
       "       [1.88592534],\n",
       "       [1.89458841],\n",
       "       [1.89549111],\n",
       "       [1.8991948 ],\n",
       "       [1.90324112],\n",
       "       [1.93904893],\n",
       "       [1.94799057],\n",
       "       [1.94818493],\n",
       "       [1.96522338],\n",
       "       [1.96770692],\n",
       "       [1.97823873],\n",
       "       [2.01062449],\n",
       "       [2.05425264],\n",
       "       [2.12091592],\n",
       "       [2.18345672],\n",
       "       [2.22978722],\n",
       "       [2.26195039],\n",
       "       [2.32100488],\n",
       "       [2.33629548],\n",
       "       [2.34237451],\n",
       "       [2.35522378],\n",
       "       [2.3601551 ],\n",
       "       [2.38317082],\n",
       "       [2.39606098],\n",
       "       [2.43567066],\n",
       "       [2.44265426],\n",
       "       [2.47381583],\n",
       "       [2.47867574],\n",
       "       [2.48330153],\n",
       "       [2.49683472],\n",
       "       [2.52937312],\n",
       "       [2.57591806],\n",
       "       [2.59519137],\n",
       "       [2.62618356],\n",
       "       [2.63627428],\n",
       "       [2.64988652],\n",
       "       [2.65571747],\n",
       "       [2.66539481],\n",
       "       [2.66945211],\n",
       "       [2.6863359 ],\n",
       "       [2.71643366],\n",
       "       [2.72518363],\n",
       "       [2.75030853],\n",
       "       [2.75751691],\n",
       "       [2.76162003],\n",
       "       [2.78268314],\n",
       "       [2.7960609 ],\n",
       "       [2.89641562],\n",
       "       [2.93024249],\n",
       "       [2.99340351],\n",
       "       [3.0097996 ],\n",
       "       [3.01181696],\n",
       "       [3.05087331],\n",
       "       [3.05712465],\n",
       "       [3.06226676],\n",
       "       [3.11845026],\n",
       "       [3.12093823],\n",
       "       [3.12482063],\n",
       "       [3.17394119],\n",
       "       [3.23849213],\n",
       "       [3.2708397 ],\n",
       "       [3.28391855],\n",
       "       [3.31866795],\n",
       "       [3.32229625],\n",
       "       [3.33296236],\n",
       "       [3.33562842],\n",
       "       [3.3817015 ],\n",
       "       [3.44746594],\n",
       "       [3.47890182],\n",
       "       [3.52946366],\n",
       "       [3.54939878],\n",
       "       [3.59881003],\n",
       "       [3.61194356],\n",
       "       [3.65755765],\n",
       "       [3.68751452],\n",
       "       [3.71534063],\n",
       "       [3.7385277 ],\n",
       "       [3.79810234],\n",
       "       [3.80179526],\n",
       "       [3.80859032],\n",
       "       [3.82391605],\n",
       "       [3.83695891],\n",
       "       [3.87774751],\n",
       "       [3.96145248],\n",
       "       [3.96228729],\n",
       "       [3.96448434],\n",
       "       [3.98964949],\n",
       "       [4.07890274],\n",
       "       [4.16904366],\n",
       "       [4.17163218],\n",
       "       [4.18025459],\n",
       "       [4.19256821],\n",
       "       [4.24141761],\n",
       "       [4.25607938],\n",
       "       [4.26307912],\n",
       "       [4.28160625],\n",
       "       [4.28209571],\n",
       "       [4.33183324],\n",
       "       [4.33759525],\n",
       "       [4.3554611 ],\n",
       "       [4.36005013],\n",
       "       [4.39592086],\n",
       "       [4.41521737],\n",
       "       [4.44616686],\n",
       "       [4.46255027],\n",
       "       [4.48378202],\n",
       "       [4.50150404],\n",
       "       [4.50278687],\n",
       "       [4.54662252],\n",
       "       [4.5641595 ],\n",
       "       [4.61773203],\n",
       "       [4.64909414],\n",
       "       [4.66740194],\n",
       "       [4.66806129],\n",
       "       [4.70865603],\n",
       "       [4.72671461],\n",
       "       [4.77133636],\n",
       "       [4.77616772],\n",
       "       [4.79125688],\n",
       "       [4.81798525],\n",
       "       [4.81917523],\n",
       "       [4.83117076],\n",
       "       [4.8588658 ],\n",
       "       [4.9157418 ],\n",
       "       [4.92276076],\n",
       "       [4.93349573],\n",
       "       [4.96702582],\n",
       "       [4.98148947],\n",
       "       [4.98588667],\n",
       "       [4.99473375]])"
      ]
     },
     "execution_count": 18,
     "metadata": {},
     "output_type": "execute_result"
    }
   ],
   "source": [
    "X"
   ]
  },
  {
   "cell_type": "code",
   "execution_count": 19,
   "metadata": {},
   "outputs": [
    {
     "data": {
      "text/plain": [
       "array([-0.87555181,  0.05185457,  0.05267906,  0.09683609,  0.15712502,\n",
       "       -0.03295579,  0.29079664,  0.31129579,  0.36344924,  0.36556287,\n",
       "       -0.33448588,  0.45227392,  0.47243265,  0.47647968,  0.49472311,\n",
       "        0.21579283,  0.50882087,  0.51994278,  0.52909795,  0.53166023,\n",
       "        1.73111129,  0.61504343,  0.61983164,  0.63067197,  0.66384819,\n",
       "        1.32684205,  0.66862502,  0.70129205,  0.71090183,  0.75273077,\n",
       "       -0.49474108,  0.77484136,  0.77880733,  0.80899559,  0.81006781,\n",
       "       -0.50476402,  0.82395523,  0.84235265,  0.86551249,  0.87149781,\n",
       "        2.15239136,  0.87953637,  0.88503047,  0.88614368,  0.89250956,\n",
       "        0.06144217,  0.92786536,  0.9362087 ,  0.93844923,  0.94520776,\n",
       "        1.88913303,  0.95048342,  0.97074003,  0.97270269,  0.98668024,\n",
       "        2.4285215 ,  0.99798283,  0.99830828,  0.99879872,  0.99937095,\n",
       "        0.91204422,  0.99984269,  0.99947373,  0.99862261,  0.98772274,\n",
       "        0.23600047,  0.97192765,  0.96589501,  0.9592188 ,  0.95747799,\n",
       "        0.7146415 ,  0.94803573,  0.94774814,  0.94656009,  0.9452473 ,\n",
       "        2.31519394,  0.92970169,  0.92963009,  0.92321689,  0.92225967,\n",
       "        0.072206  ,  0.90482484,  0.88539358,  0.85246201,  0.81812107,\n",
       "        1.56997836,  0.7705109 ,  0.7315467 ,  0.72103659,  0.71681114,\n",
       "       -0.50670372,  0.70430067,  0.68777668,  0.67836254,  0.64873575,\n",
       "       -0.22375301,  0.61924188,  0.61541858,  0.61176596,  0.60100499,\n",
       "        1.79046057,  0.53598545,  0.51961586,  0.49289084,  0.48408605,\n",
       "        0.43964407,  0.46698243,  0.45840335,  0.45479369,  0.43969293,\n",
       "        0.98107756,  0.40447895,  0.3813758 ,  0.37470237,  0.37089505,\n",
       "       -0.92630543,  0.33869705,  0.24272807,  0.20978021,  0.14764737,\n",
       "        0.39482217,  0.12941172,  0.09059496,  0.08436759,  0.07924272,\n",
       "        1.20021034,  0.02065295,  0.01677123, -0.0323429 , -0.09674791,\n",
       "       -0.21501139, -0.14184588, -0.17615136, -0.17972176, -0.19020377,\n",
       "       -0.39572683, -0.23780835, -0.30112605, -0.3309491 , -0.37821843,\n",
       "        0.03300945, -0.44145301, -0.45319911, -0.49337445, -0.51920619,\n",
       "        0.08484523, -0.56211021, -0.6103558 , -0.6132769 , -0.6186299 ,\n",
       "       -0.8916733 , -0.6406667 , -0.67144342, -0.73105019, -0.73161955,\n",
       "       -0.77596593, -0.74999653, -0.8059687 , -0.85598394, -0.85731934,\n",
       "       -0.67058595, -0.86790822, -0.89112795, -0.89768474, -0.90074708,\n",
       "       -0.79338799, -0.90884345, -0.92845836, -0.93058315, -0.93697464,\n",
       "       -1.61161891, -0.95034051, -0.95616851, -0.96477169, -0.96895231,\n",
       "       -0.2556746 , -0.97784606, -0.97811378, -0.98629217, -0.98903411,\n",
       "       -1.22773736, -0.99799755, -0.99898825, -0.99901769, -0.99999303,\n",
       "       -0.76733423, -0.99826311, -0.99796683, -0.99689154, -0.99442989,\n",
       "       -1.97011406, -0.99295373, -0.98929144, -0.97939497, -0.97795335,\n",
       "       -0.27113958, -0.96775484, -0.96401043, -0.96283206, -0.96040481])"
      ]
     },
     "execution_count": 19,
     "metadata": {},
     "output_type": "execute_result"
    }
   ],
   "source": [
    "Y"
   ]
  },
  {
   "cell_type": "code",
   "execution_count": 20,
   "metadata": {},
   "outputs": [
    {
     "data": {
      "text/plain": [
       "<matplotlib.collections.PathCollection at 0x17cc6003e88>"
      ]
     },
     "execution_count": 20,
     "metadata": {},
     "output_type": "execute_result"
    },
    {
     "data": {
      "image/png": "[encoded data removed]",
      "text/plain": [
       "<Figure size 432x288 with 1 Axes>"
      ]
     },
     "metadata": {
      "needs_background": "light"
     },
     "output_type": "display_data"
    }
   ],
   "source": [
    "plt.scatter(X,Y,color=\"darkorange\",label=\"data\")"
   ]
  },
  {
   "cell_type": "code",
   "execution_count": 22,
   "metadata": {},
   "outputs": [],
   "source": [
    "from sklearn.svm import SVR"
   ]
  },
  {
   "cell_type": "code",
   "execution_count": 26,
   "metadata": {},
   "outputs": [],
   "source": [
    "C = 1e3\n",
    "svr_lin = SVR(kernel=\"linear\",C=C)\n",
    "svr_rbf = SVR(kernel=\"rbf\",C=C, gamma = 0.1)\n",
    "svr_pol = SVR(kernel=\"poly\",C=C, degree = 3)"
   ]
  },
  {
   "cell_type": "code",
   "execution_count": 28,
   "metadata": {},
   "outputs": [],
   "source": [
    "Y_lin = svr_lin.fit(X,Y).predict(X)\n",
    "Y_rbf = svr_rbf.fit(X,Y).predict(X)\n",
    "Y_pol = svr_pol.fit(X,Y).predict(X)"
   ]
  },
  {
   "cell_type": "code",
   "execution_count": 33,
   "metadata": {},
   "outputs": [
    {
     "data": {
      "image/png": "[encoded data removed]",
      "text/plain": [
       "<Figure size 1152x648 with 1 Axes>"
      ]
     },
     "metadata": {
      "needs_background": "light"
     },
     "output_type": "display_data"
    }
   ],
   "source": [
    "lw = 2\n",
    "plt.figure(figsize = (16,9))\n",
    "plt.scatter(X,Y,color = \"darkorange\",label = \"data\")\n",
    "plt.plot(X,Y_lin,color=\"navy\",lw=lw,label=\"SVM Linear\")\n",
    "plt.plot(X,Y_rbf,color=\"c\",lw=lw,label=\"SVM Radial\")\n",
    "plt.plot(X,Y_pol,color=\"cornflowerblue\",lw=lw,label=\"SVM Polinómico\")\n",
    "plt.xlabel(\"x\")\n",
    "plt.ylabel(\"y\")\n",
    "plt.title(\"Support Vector Regression\")\n",
    "plt.legend()\n",
    "plt.show()"
   ]
  },
  {
   "cell_type": "code",
   "execution_count": null,
   "metadata": {},
   "outputs": [],
   "source": []
  }
 ],
 "metadata": {
  "kernelspec": {
   "display_name": "Python 3",
   "language": "python",
   "name": "python3"
  },
  "language_info": {
   "codemirror_mode": {
    "name": "ipython",
    "version": 3
   },
   "file_extension": ".py",
   "mimetype": "text/x-python",
   "name": "python",
   "nbconvert_exporter": "python",
   "pygments_lexer": "ipython3",
   "version": "3.7.4"
  }
 },
 "nbformat": 4,
 "nbformat_minor": 2
}
