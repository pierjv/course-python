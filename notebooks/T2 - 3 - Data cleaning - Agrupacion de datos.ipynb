{
 "cells": [
  {
   "cell_type": "markdown",
   "metadata": {},
   "source": [
    "# Agregación de datos por categoría"
   ]
  },
  {
   "cell_type": "code",
   "execution_count": 1,
   "metadata": {},
   "outputs": [],
   "source": [
    "import numpy as np\n",
    "import pandas as pd"
   ]
  },
  {
   "cell_type": "code",
   "execution_count": 2,
   "metadata": {},
   "outputs": [],
   "source": [
    "gender = [\"Male\",\"Famale\"]\n",
    "income = [\"Poor\",\"Middle Class\",\"Rich\"]"
   ]
  },
  {
   "cell_type": "code",
   "execution_count": 3,
   "metadata": {},
   "outputs": [],
   "source": [
    "n = 500\n",
    "gender_data = []\n",
    "income_data = []\n",
    "\n",
    "for i in range(0,500):\n",
    "    gender_data.append(np.random.choice(gender))\n",
    "    income_data.append(np.random.choice(income))"
   ]
  },
  {
   "cell_type": "code",
   "execution_count": 11,
   "metadata": {},
   "outputs": [
    {
     "data": {
      "text/plain": [
       "['Famale',\n",
       " 'Famale',\n",
       " 'Famale',\n",
       " 'Male',\n",
       " 'Male',\n",
       " 'Famale',\n",
       " 'Male',\n",
       " 'Famale',\n",
       " 'Male',\n",
       " 'Famale']"
      ]
     },
     "execution_count": 11,
     "metadata": {},
     "output_type": "execute_result"
    }
   ],
   "source": [
    "gender_data[0:10]"
   ]
  },
  {
   "cell_type": "code",
   "execution_count": 10,
   "metadata": {},
   "outputs": [
    {
     "data": {
      "text/plain": [
       "['Middle Class',\n",
       " 'Poor',\n",
       " 'Rich',\n",
       " 'Poor',\n",
       " 'Poor',\n",
       " 'Poor',\n",
       " 'Rich',\n",
       " 'Poor',\n",
       " 'Poor',\n",
       " 'Middle Class']"
      ]
     },
     "execution_count": 10,
     "metadata": {},
     "output_type": "execute_result"
    }
   ],
   "source": [
    "income_data[0:10]"
   ]
  },
  {
   "cell_type": "code",
   "execution_count": 27,
   "metadata": {},
   "outputs": [],
   "source": [
    "#Z -> N(0,1)\n",
    "# N(n,s) .> m + s * z\n",
    "height = 160 + 30 * np.random.randn(n) \n",
    "weight = 65 + 35* np.random.randn(n)\n",
    "age = 30 + 12 * np.random.randn(n)\n",
    "income = 18000 + 3500 * np.random.randn(n)"
   ]
  },
  {
   "cell_type": "code",
   "execution_count": 28,
   "metadata": {},
   "outputs": [],
   "source": [
    "data = pd.DataFrame(\n",
    "    {\n",
    "        \"Gender\": gender_data,\n",
    "        \"Economic Status\" : income_data,\n",
    "        \"Height\" : height,\n",
    "        \"Weight\": weight,\n",
    "        \"Age\" : age,\n",
    "        \"Income\" : income\n",
    "    }\n",
    ")"
   ]
  },
  {
   "cell_type": "code",
   "execution_count": 29,
   "metadata": {},
   "outputs": [
    {
     "data": {
      "text/html": [
       "<div>\n",
       "<style scoped>\n",
       "    .dataframe tbody tr th:only-of-type {\n",
       "        vertical-align: middle;\n",
       "    }\n",
       "\n",
       "    .dataframe tbody tr th {\n",
       "        vertical-align: top;\n",
       "    }\n",
       "\n",
       "    .dataframe thead th {\n",
       "        text-align: right;\n",
       "    }\n",
       "</style>\n",
       "<table border=\"1\" class=\"dataframe\">\n",
       "  <thead>\n",
       "    <tr style=\"text-align: right;\">\n",
       "      <th></th>\n",
       "      <th>Gender</th>\n",
       "      <th>Economic Status</th>\n",
       "      <th>Height</th>\n",
       "      <th>Weight</th>\n",
       "      <th>Age</th>\n",
       "      <th>Income</th>\n",
       "    </tr>\n",
       "  </thead>\n",
       "  <tbody>\n",
       "    <tr>\n",
       "      <td>0</td>\n",
       "      <td>Famale</td>\n",
       "      <td>Middle Class</td>\n",
       "      <td>114.568597</td>\n",
       "      <td>91.967480</td>\n",
       "      <td>36.007970</td>\n",
       "      <td>19053.247760</td>\n",
       "    </tr>\n",
       "    <tr>\n",
       "      <td>1</td>\n",
       "      <td>Famale</td>\n",
       "      <td>Poor</td>\n",
       "      <td>129.617922</td>\n",
       "      <td>54.985976</td>\n",
       "      <td>15.165654</td>\n",
       "      <td>17223.010704</td>\n",
       "    </tr>\n",
       "    <tr>\n",
       "      <td>2</td>\n",
       "      <td>Famale</td>\n",
       "      <td>Rich</td>\n",
       "      <td>137.015391</td>\n",
       "      <td>52.376387</td>\n",
       "      <td>21.574901</td>\n",
       "      <td>18545.557352</td>\n",
       "    </tr>\n",
       "    <tr>\n",
       "      <td>3</td>\n",
       "      <td>Male</td>\n",
       "      <td>Poor</td>\n",
       "      <td>183.464511</td>\n",
       "      <td>80.481074</td>\n",
       "      <td>37.134853</td>\n",
       "      <td>21577.663358</td>\n",
       "    </tr>\n",
       "    <tr>\n",
       "      <td>4</td>\n",
       "      <td>Male</td>\n",
       "      <td>Poor</td>\n",
       "      <td>159.995020</td>\n",
       "      <td>67.631659</td>\n",
       "      <td>53.582084</td>\n",
       "      <td>15759.975653</td>\n",
       "    </tr>\n",
       "  </tbody>\n",
       "</table>\n",
       "</div>"
      ],
      "text/plain": [
       "   Gender Economic Status      Height     Weight        Age        Income\n",
       "0  Famale    Middle Class  114.568597  91.967480  36.007970  19053.247760\n",
       "1  Famale            Poor  129.617922  54.985976  15.165654  17223.010704\n",
       "2  Famale            Rich  137.015391  52.376387  21.574901  18545.557352\n",
       "3    Male            Poor  183.464511  80.481074  37.134853  21577.663358\n",
       "4    Male            Poor  159.995020  67.631659  53.582084  15759.975653"
      ]
     },
     "execution_count": 29,
     "metadata": {},
     "output_type": "execute_result"
    }
   ],
   "source": [
    "data.head()"
   ]
  },
  {
   "cell_type": "markdown",
   "metadata": {},
   "source": [
    "# Agrupación de datos"
   ]
  },
  {
   "cell_type": "code",
   "execution_count": 31,
   "metadata": {},
   "outputs": [],
   "source": [
    "grouped_gender = data.groupby(\"Gender\")"
   ]
  },
  {
   "cell_type": "code",
   "execution_count": 32,
   "metadata": {},
   "outputs": [
    {
     "data": {
      "text/plain": [
       "{'Famale': Int64Index([  0,   1,   2,   5,   7,   9,  10,  12,  13,  15,\n",
       "             ...\n",
       "             479, 481, 489, 492, 493, 494, 495, 496, 497, 499],\n",
       "            dtype='int64', length=227),\n",
       " 'Male': Int64Index([  3,   4,   6,   8,  11,  14,  17,  20,  22,  24,\n",
       "             ...\n",
       "             482, 483, 484, 485, 486, 487, 488, 490, 491, 498],\n",
       "            dtype='int64', length=273)}"
      ]
     },
     "execution_count": 32,
     "metadata": {},
     "output_type": "execute_result"
    }
   ],
   "source": [
    "grouped_gender.groups"
   ]
  },
  {
   "cell_type": "code",
   "execution_count": 34,
   "metadata": {},
   "outputs": [
    {
     "name": "stdout",
     "output_type": "stream",
     "text": [
      "Famale\n",
      "     Gender Economic Status      Height      Weight        Age        Income\n",
      "0    Famale    Middle Class  114.568597   91.967480  36.007970  19053.247760\n",
      "1    Famale            Poor  129.617922   54.985976  15.165654  17223.010704\n",
      "2    Famale            Rich  137.015391   52.376387  21.574901  18545.557352\n",
      "5    Famale            Poor  161.248079   95.753171  22.262381  18913.590590\n",
      "7    Famale            Poor  146.022835   43.221859  38.401199  10339.187511\n",
      "..      ...             ...         ...         ...        ...           ...\n",
      "494  Famale            Poor  175.680802   76.809134  23.134843  18178.648896\n",
      "495  Famale            Rich  147.399945   27.046794  27.054453  14485.809848\n",
      "496  Famale    Middle Class  120.900192  109.233151  31.970188  15418.793644\n",
      "497  Famale            Poor   97.476301   30.587236  40.748617  13359.647723\n",
      "499  Famale            Rich  194.456051    4.874292  43.596674  11992.148680\n",
      "\n",
      "[227 rows x 6 columns]\n",
      "Male\n",
      "    Gender Economic Status      Height      Weight        Age        Income\n",
      "3     Male            Poor  183.464511   80.481074  37.134853  21577.663358\n",
      "4     Male            Poor  159.995020   67.631659  53.582084  15759.975653\n",
      "6     Male            Rich  155.319953   69.632285  28.084271  16720.708677\n",
      "8     Male            Poor  182.995144   94.542935  53.044715  19951.628057\n",
      "11    Male    Middle Class  202.823680   60.662216  45.896819  17819.936018\n",
      "..     ...             ...         ...         ...        ...           ...\n",
      "487   Male    Middle Class  174.223390  101.771455  29.628532  20618.763169\n",
      "488   Male    Middle Class  132.156297   85.032226  30.622080  13162.506430\n",
      "490   Male            Rich   91.337934   52.310914  20.499339  19069.233489\n",
      "491   Male            Rich  200.028276   -3.300092  30.834902  21389.612578\n",
      "498   Male            Poor  132.291407   56.621978  29.123379  22603.279846\n",
      "\n",
      "[273 rows x 6 columns]\n"
     ]
    }
   ],
   "source": [
    "for names,groups in grouped_gender:\n",
    "    print(names)\n",
    "    print(groups)"
   ]
  },
  {
   "cell_type": "code",
   "execution_count": 35,
   "metadata": {},
   "outputs": [
    {
     "data": {
      "text/html": [
       "<div>\n",
       "<style scoped>\n",
       "    .dataframe tbody tr th:only-of-type {\n",
       "        vertical-align: middle;\n",
       "    }\n",
       "\n",
       "    .dataframe tbody tr th {\n",
       "        vertical-align: top;\n",
       "    }\n",
       "\n",
       "    .dataframe thead th {\n",
       "        text-align: right;\n",
       "    }\n",
       "</style>\n",
       "<table border=\"1\" class=\"dataframe\">\n",
       "  <thead>\n",
       "    <tr style=\"text-align: right;\">\n",
       "      <th></th>\n",
       "      <th>Economic Status</th>\n",
       "      <th>Height</th>\n",
       "      <th>Weight</th>\n",
       "      <th>Age</th>\n",
       "      <th>Income</th>\n",
       "    </tr>\n",
       "  </thead>\n",
       "  <tbody>\n",
       "    <tr>\n",
       "      <td>0</td>\n",
       "      <td>Middle Class</td>\n",
       "      <td>114.568597</td>\n",
       "      <td>91.967480</td>\n",
       "      <td>36.007970</td>\n",
       "      <td>19053.247760</td>\n",
       "    </tr>\n",
       "    <tr>\n",
       "      <td>1</td>\n",
       "      <td>Poor</td>\n",
       "      <td>129.617922</td>\n",
       "      <td>54.985976</td>\n",
       "      <td>15.165654</td>\n",
       "      <td>17223.010704</td>\n",
       "    </tr>\n",
       "    <tr>\n",
       "      <td>2</td>\n",
       "      <td>Rich</td>\n",
       "      <td>137.015391</td>\n",
       "      <td>52.376387</td>\n",
       "      <td>21.574901</td>\n",
       "      <td>18545.557352</td>\n",
       "    </tr>\n",
       "    <tr>\n",
       "      <td>5</td>\n",
       "      <td>Poor</td>\n",
       "      <td>161.248079</td>\n",
       "      <td>95.753171</td>\n",
       "      <td>22.262381</td>\n",
       "      <td>18913.590590</td>\n",
       "    </tr>\n",
       "    <tr>\n",
       "      <td>7</td>\n",
       "      <td>Poor</td>\n",
       "      <td>146.022835</td>\n",
       "      <td>43.221859</td>\n",
       "      <td>38.401199</td>\n",
       "      <td>10339.187511</td>\n",
       "    </tr>\n",
       "    <tr>\n",
       "      <td>...</td>\n",
       "      <td>...</td>\n",
       "      <td>...</td>\n",
       "      <td>...</td>\n",
       "      <td>...</td>\n",
       "      <td>...</td>\n",
       "    </tr>\n",
       "    <tr>\n",
       "      <td>494</td>\n",
       "      <td>Poor</td>\n",
       "      <td>175.680802</td>\n",
       "      <td>76.809134</td>\n",
       "      <td>23.134843</td>\n",
       "      <td>18178.648896</td>\n",
       "    </tr>\n",
       "    <tr>\n",
       "      <td>495</td>\n",
       "      <td>Rich</td>\n",
       "      <td>147.399945</td>\n",
       "      <td>27.046794</td>\n",
       "      <td>27.054453</td>\n",
       "      <td>14485.809848</td>\n",
       "    </tr>\n",
       "    <tr>\n",
       "      <td>496</td>\n",
       "      <td>Middle Class</td>\n",
       "      <td>120.900192</td>\n",
       "      <td>109.233151</td>\n",
       "      <td>31.970188</td>\n",
       "      <td>15418.793644</td>\n",
       "    </tr>\n",
       "    <tr>\n",
       "      <td>497</td>\n",
       "      <td>Poor</td>\n",
       "      <td>97.476301</td>\n",
       "      <td>30.587236</td>\n",
       "      <td>40.748617</td>\n",
       "      <td>13359.647723</td>\n",
       "    </tr>\n",
       "    <tr>\n",
       "      <td>499</td>\n",
       "      <td>Rich</td>\n",
       "      <td>194.456051</td>\n",
       "      <td>4.874292</td>\n",
       "      <td>43.596674</td>\n",
       "      <td>11992.148680</td>\n",
       "    </tr>\n",
       "  </tbody>\n",
       "</table>\n",
       "<p>227 rows × 5 columns</p>\n",
       "</div>"
      ],
      "text/plain": [
       "    Economic Status      Height      Weight        Age        Income\n",
       "0      Middle Class  114.568597   91.967480  36.007970  19053.247760\n",
       "1              Poor  129.617922   54.985976  15.165654  17223.010704\n",
       "2              Rich  137.015391   52.376387  21.574901  18545.557352\n",
       "5              Poor  161.248079   95.753171  22.262381  18913.590590\n",
       "7              Poor  146.022835   43.221859  38.401199  10339.187511\n",
       "..              ...         ...         ...        ...           ...\n",
       "494            Poor  175.680802   76.809134  23.134843  18178.648896\n",
       "495            Rich  147.399945   27.046794  27.054453  14485.809848\n",
       "496    Middle Class  120.900192  109.233151  31.970188  15418.793644\n",
       "497            Poor   97.476301   30.587236  40.748617  13359.647723\n",
       "499            Rich  194.456051    4.874292  43.596674  11992.148680\n",
       "\n",
       "[227 rows x 5 columns]"
      ]
     },
     "execution_count": 35,
     "metadata": {},
     "output_type": "execute_result"
    }
   ],
   "source": [
    "grouped_gender.get_group(\"Famale\")"
   ]
  },
  {
   "cell_type": "code",
   "execution_count": 36,
   "metadata": {},
   "outputs": [],
   "source": [
    "double_group = data.groupby([\"Gender\",\"Economic Status\"])"
   ]
  },
  {
   "cell_type": "code",
   "execution_count": 37,
   "metadata": {},
   "outputs": [
    {
     "data": {
      "text/plain": [
       "6"
      ]
     },
     "execution_count": 37,
     "metadata": {},
     "output_type": "execute_result"
    }
   ],
   "source": [
    "len(double_group)"
   ]
  },
  {
   "cell_type": "code",
   "execution_count": 38,
   "metadata": {},
   "outputs": [
    {
     "name": "stdout",
     "output_type": "stream",
     "text": [
      "('Famale', 'Middle Class')\n",
      "     Gender Economic Status      Height      Weight        Age        Income\n",
      "0    Famale    Middle Class  114.568597   91.967480  36.007970  19053.247760\n",
      "9    Famale    Middle Class  165.342760   12.843135  33.717056  14121.815568\n",
      "10   Famale    Middle Class  179.934274  102.834787  32.208549  16305.599280\n",
      "12   Famale    Middle Class  117.209115   97.015300  42.631712  15710.283168\n",
      "13   Famale    Middle Class  153.952680   60.646138  23.000480  21995.133562\n",
      "..      ...             ...         ...         ...        ...           ...\n",
      "479  Famale    Middle Class  220.074818   62.264773  25.075431  20385.539459\n",
      "489  Famale    Middle Class  166.316007   57.615830  37.885372  14123.826377\n",
      "492  Famale    Middle Class  247.509428   27.859273  28.557290  14612.277210\n",
      "493  Famale    Middle Class  116.128480   70.819414  42.468695  18867.826081\n",
      "496  Famale    Middle Class  120.900192  109.233151  31.970188  15418.793644\n",
      "\n",
      "[83 rows x 6 columns]\n",
      "('Famale', 'Poor')\n",
      "     Gender Economic Status      Height      Weight        Age        Income\n",
      "1    Famale            Poor  129.617922   54.985976  15.165654  17223.010704\n",
      "5    Famale            Poor  161.248079   95.753171  22.262381  18913.590590\n",
      "7    Famale            Poor  146.022835   43.221859  38.401199  10339.187511\n",
      "25   Famale            Poor  155.065453  129.063184  47.393673  20892.439568\n",
      "31   Famale            Poor  165.061311   34.553091  43.122271  19677.743775\n",
      "..      ...             ...         ...         ...        ...           ...\n",
      "459  Famale            Poor  169.091435   63.050242  18.481081  19797.771688\n",
      "468  Famale            Poor  208.926513   78.541129  33.792693  15879.501091\n",
      "481  Famale            Poor  192.847850   67.588123  35.216724  16461.887437\n",
      "494  Famale            Poor  175.680802   76.809134  23.134843  18178.648896\n",
      "497  Famale            Poor   97.476301   30.587236  40.748617  13359.647723\n",
      "\n",
      "[72 rows x 6 columns]\n",
      "('Famale', 'Rich')\n",
      "     Gender Economic Status      Height      Weight        Age        Income\n",
      "2    Famale            Rich  137.015391   52.376387  21.574901  18545.557352\n",
      "15   Famale            Rich  195.384511  120.378385  39.769916  19151.484421\n",
      "16   Famale            Rich  188.109389   85.122669  28.806010  15921.706133\n",
      "18   Famale            Rich  174.505039   92.490970  31.997062  17875.485407\n",
      "19   Famale            Rich  137.681137   76.805790  30.691968  19932.677373\n",
      "..      ...             ...         ...         ...        ...           ...\n",
      "467  Famale            Rich  108.702864  111.625302   3.843362  19016.820583\n",
      "471  Famale            Rich  189.577866   51.692503  32.667247  25422.588208\n",
      "472  Famale            Rich  144.768225   39.056167  19.640114  16200.042096\n",
      "495  Famale            Rich  147.399945   27.046794  27.054453  14485.809848\n",
      "499  Famale            Rich  194.456051    4.874292  43.596674  11992.148680\n",
      "\n",
      "[72 rows x 6 columns]\n",
      "('Male', 'Middle Class')\n",
      "    Gender Economic Status      Height      Weight        Age        Income\n",
      "11    Male    Middle Class  202.823680   60.662216  45.896819  17819.936018\n",
      "14    Male    Middle Class  204.882236   93.095425  33.475827  22297.544999\n",
      "17    Male    Middle Class  178.468876   71.626508  54.623910  26682.569761\n",
      "26    Male    Middle Class  159.785836   40.704988  41.855555  16247.644951\n",
      "32    Male    Middle Class  164.267922   73.860193   9.713024  17837.035156\n",
      "..     ...             ...         ...         ...        ...           ...\n",
      "482   Male    Middle Class  140.088863  121.361159  43.581115  18417.765857\n",
      "483   Male    Middle Class  183.892722   44.441804  30.981524  15793.107493\n",
      "486   Male    Middle Class  127.105252   80.865241  42.266437  18728.387953\n",
      "487   Male    Middle Class  174.223390  101.771455  29.628532  20618.763169\n",
      "488   Male    Middle Class  132.156297   85.032226  30.622080  13162.506430\n",
      "\n",
      "[94 rows x 6 columns]\n",
      "('Male', 'Poor')\n",
      "    Gender Economic Status      Height     Weight        Age        Income\n",
      "3     Male            Poor  183.464511  80.481074  37.134853  21577.663358\n",
      "4     Male            Poor  159.995020  67.631659  53.582084  15759.975653\n",
      "8     Male            Poor  182.995144  94.542935  53.044715  19951.628057\n",
      "24    Male            Poor  177.686772  59.833935  26.884189  21759.175288\n",
      "29    Male            Poor  163.829847  67.529324  41.649980  13666.456019\n",
      "..     ...             ...         ...        ...        ...           ...\n",
      "460   Male            Poor  146.284488  49.129317  32.751644  17665.087157\n",
      "465   Male            Poor  147.124331  68.619728  15.523536  18469.254859\n",
      "476   Male            Poor  106.355832  32.891978  34.160165  19460.920206\n",
      "484   Male            Poor  175.985085  65.470002  24.884940  16871.536108\n",
      "498   Male            Poor  132.291407  56.621978  29.123379  22603.279846\n",
      "\n",
      "[90 rows x 6 columns]\n",
      "('Male', 'Rich')\n",
      "    Gender Economic Status      Height      Weight        Age        Income\n",
      "6     Male            Rich  155.319953   69.632285  28.084271  16720.708677\n",
      "20    Male            Rich  135.448083   68.096348  24.915551  15459.498896\n",
      "22    Male            Rich  181.507414  112.630892  28.986755  24679.904218\n",
      "30    Male            Rich  168.825848  140.758549  27.485231  24356.093529\n",
      "34    Male            Rich  198.462666   84.728215  23.511205  13386.771979\n",
      "..     ...             ...         ...         ...        ...           ...\n",
      "477   Male            Rich  180.695223   86.594124  13.840748  14346.417290\n",
      "480   Male            Rich  146.349346  131.139798  45.913265  22718.286910\n",
      "485   Male            Rich  160.169346   67.253522   9.582681  16623.553068\n",
      "490   Male            Rich   91.337934   52.310914  20.499339  19069.233489\n",
      "491   Male            Rich  200.028276   -3.300092  30.834902  21389.612578\n",
      "\n",
      "[89 rows x 6 columns]\n"
     ]
    }
   ],
   "source": [
    "for names,groups in double_group:\n",
    "    print(names)\n",
    "    print(groups)"
   ]
  },
  {
   "cell_type": "code",
   "execution_count": null,
   "metadata": {},
   "outputs": [],
   "source": []
  }
 ],
 "metadata": {
  "kernelspec": {
   "display_name": "Python 3",
   "language": "python",
   "name": "python3"
  },
  "language_info": {
   "codemirror_mode": {
    "name": "ipython",
    "version": 3
   },
   "file_extension": ".py",
   "mimetype": "text/x-python",
   "name": "python",
   "nbconvert_exporter": "python",
   "pygments_lexer": "ipython3",
   "version": "3.7.4"
  }
 },
 "nbformat": 4,
 "nbformat_minor": 2
}
