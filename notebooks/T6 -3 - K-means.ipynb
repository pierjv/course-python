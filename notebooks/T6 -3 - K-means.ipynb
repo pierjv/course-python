{
 "cells": [
  {
   "cell_type": "code",
   "execution_count": 3,
   "metadata": {},
   "outputs": [],
   "source": [
    "import numpy as np"
   ]
  },
  {
   "cell_type": "code",
   "execution_count": 6,
   "metadata": {},
   "outputs": [
    {
     "data": {
      "text/plain": [
       "array([[0.35577718, 0.01670724, 0.82460715],\n",
       "       [0.79953475, 0.03912937, 0.52758077],\n",
       "       [0.04843915, 0.71893556, 0.14246519],\n",
       "       [0.97500089, 0.48692277, 0.67382835],\n",
       "       [0.66532632, 0.12145159, 0.8233258 ],\n",
       "       [0.38007678, 0.86445903, 0.142633  ],\n",
       "       [0.31529624, 0.15795774, 0.38787929],\n",
       "       [0.49672972, 0.31956594, 0.23911866],\n",
       "       [0.74763507, 0.13804417, 0.87083958],\n",
       "       [0.92878687, 0.18675543, 0.2248408 ],\n",
       "       [0.38464889, 0.79919067, 0.2429166 ],\n",
       "       [0.77281782, 0.96426488, 0.36626917],\n",
       "       [0.9079907 , 0.31676468, 0.70445404],\n",
       "       [0.15192497, 0.2752042 , 0.49611415],\n",
       "       [0.12121641, 0.18613989, 0.12621475],\n",
       "       [0.30887247, 0.30750799, 0.97280492],\n",
       "       [0.83975005, 0.42890859, 0.73415349],\n",
       "       [0.50503297, 0.12870632, 0.6236026 ],\n",
       "       [0.73362029, 0.07805683, 0.34335886],\n",
       "       [0.38652749, 0.90890339, 0.59717718],\n",
       "       [0.78109097, 0.90393208, 0.12060154],\n",
       "       [0.83850353, 0.31116107, 0.82123082],\n",
       "       [0.22034316, 0.52471538, 0.88696659],\n",
       "       [0.60362211, 0.62754664, 0.81529539],\n",
       "       [0.60189879, 0.84780381, 0.95851729],\n",
       "       [0.16877913, 0.27671319, 0.42185457],\n",
       "       [0.92451088, 0.99867159, 0.50513197],\n",
       "       [0.37945582, 0.47726633, 0.30342719],\n",
       "       [0.56161555, 0.86614714, 0.18976422],\n",
       "       [0.99360625, 0.23951111, 0.80077389]])"
      ]
     },
     "execution_count": 6,
     "metadata": {},
     "output_type": "execute_result"
    }
   ],
   "source": [
    "data = np.random.random(90).reshape(30,3)\n",
    "data"
   ]
  },
  {
   "cell_type": "code",
   "execution_count": 7,
   "metadata": {},
   "outputs": [
    {
     "data": {
      "text/plain": [
       "array([[0.30887247, 0.30750799, 0.97280492],\n",
       "       [0.16877913, 0.27671319, 0.42185457]])"
      ]
     },
     "execution_count": 7,
     "metadata": {},
     "output_type": "execute_result"
    }
   ],
   "source": [
    "c1 = np.random.choice(range(len(data)))\n",
    "c2 = np.random.choice(range(len(data)))\n",
    "clust_centers = np.vstack([data[c1],data[c2]])\n",
    "clust_centers"
   ]
  },
  {
   "cell_type": "code",
   "execution_count": 9,
   "metadata": {},
   "outputs": [],
   "source": [
    "from scipy.cluster.vq import vq"
   ]
  },
  {
   "cell_type": "code",
   "execution_count": 10,
   "metadata": {},
   "outputs": [
    {
     "data": {
      "text/plain": [
       "(array([0, 1, 1, 0, 0, 1, 1, 1, 0, 1, 1, 1, 0, 1, 1, 0, 0, 1, 1, 1, 1, 0,\n",
       "        0, 0, 0, 1, 0, 1, 1, 0]),\n",
       " array([0.32973884, 0.68225856, 0.53675019, 0.75186682, 0.42897592,\n",
       "        0.68414659, 0.19163622, 0.37786289, 0.48127698, 0.79026489,\n",
       "        0.59295976, 0.91688593, 0.65653677, 0.07616315, 0.31283964,\n",
       "        0.        , 0.59457851, 0.41913595, 0.60388034, 0.69124295,\n",
       "        0.92686716, 0.55090571, 0.24976931, 0.46272166, 0.61480739,\n",
       "        0.        , 1.03703218, 0.31405617, 0.7453984 , 0.70928034]))"
      ]
     },
     "execution_count": 10,
     "metadata": {},
     "output_type": "execute_result"
    }
   ],
   "source": [
    "vq(data,clust_centers)"
   ]
  },
  {
   "cell_type": "code",
   "execution_count": 11,
   "metadata": {},
   "outputs": [],
   "source": [
    "from scipy.cluster.vq import kmeans"
   ]
  },
  {
   "cell_type": "code",
   "execution_count": 12,
   "metadata": {},
   "outputs": [
    {
     "data": {
      "text/plain": [
       "(array([[0.68908134, 0.29998081, 0.72538627],\n",
       "        [0.41950927, 0.62266797, 0.30582625]]), 0.3805717641981321)"
      ]
     },
     "execution_count": 12,
     "metadata": {},
     "output_type": "execute_result"
    }
   ],
   "source": [
    "kmeans(data,clust_centers)"
   ]
  },
  {
   "cell_type": "code",
   "execution_count": 13,
   "metadata": {},
   "outputs": [
    {
     "data": {
      "text/plain": [
       "(array([[0.41950927, 0.62266797, 0.30582625],\n",
       "        [0.68908134, 0.29998081, 0.72538627]]), 0.3805717641981321)"
      ]
     },
     "execution_count": 13,
     "metadata": {},
     "output_type": "execute_result"
    }
   ],
   "source": [
    "kmeans(data,2)"
   ]
  },
  {
   "cell_type": "code",
   "execution_count": null,
   "metadata": {},
   "outputs": [],
   "source": []
  }
 ],
 "metadata": {
  "kernelspec": {
   "display_name": "Python 3",
   "language": "python",
   "name": "python3"
  },
  "language_info": {
   "codemirror_mode": {
    "name": "ipython",
    "version": 3
   },
   "file_extension": ".py",
   "mimetype": "text/x-python",
   "name": "python",
   "nbconvert_exporter": "python",
   "pygments_lexer": "ipython3",
   "version": "3.7.4"
  }
 },
 "nbformat": 4,
 "nbformat_minor": 2
}
